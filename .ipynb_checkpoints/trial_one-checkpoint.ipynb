{
 "cells": [
  {
   "cell_type": "markdown",
   "metadata": {},
   "source": [
    "# Sensical Trial 1\n",
    "\n",
    "**Hypothesis:**  _____ \n",
    "\n",
    "## steps\n",
    "\n",
    "1. **Download** about 5k tweets randomly sampled from the start of the [#c19](c19.ai) pandemic to now.\n",
    "2. Run all of these through some **sentiment analysis** function to get emotional states of interest: `['anxiety', 'confusion', 'uncertainty', 'other']`.  We may add scores to each of the emotions of interest, and we may additionally conduct something akin to [PageRank](https://en.wikipedia.org/wiki/PageRank) to determine the authenticity/social rank associated with the source of the tweet.  Or more simply, we may extract their job title.\n",
    "3. Build a basic time-based **visualization** showing how those categories change over time. If the tweets have geolocation enabled, we can build a visual view for how those emotions propagate over time as well.\n",
    "\n",
    "## todo\n",
    "\n",
    "- [x] Get tweet IDs and repository downloaded.\n",
    "- [ ] Configure `twarc` below with developer credentials for using the Twitter API.\n",
    "- [ ] \"Hydrate\" around 5,000 tweets between January and May, inclusive.\n",
    "- [ ] Buildup semantic analysis function to annotate each tweet, constructing a dictionary of `tweet_id -> (semantic_category, timestamp)`.\n",
    "- [ ] Using visualization packages such as `seaborn`, buildup about 3 different time-based visualizations "
   ]
  },
  {
   "cell_type": "code",
   "execution_count": null,
   "metadata": {},
   "outputs": [],
   "source": [
    "# Install dependencies\n",
    "import sys\n",
    "!{sys.executable} -m pip install twarc\n",
    "!{sys.executable} -m pip install tqdm\n",
    "\n",
    "# Configure Twitter client\n",
    "!twarc configure\n",
    "\n",
    "import seaborn\n",
    "import tqdm\n",
    "import twarc\n",
    "\n",
    "# Hydrate tweets\n",
    "!cd \"COVID-19-TweetIDs/\"\n",
    "!python3 hydrate.py"
   ]
  },
  {
   "cell_type": "code",
   "execution_count": null,
   "metadata": {},
   "outputs": [],
   "source": [
    "def download_twitter_ids(ids: list) -> str:\n",
    "    \"\"\"\"\"\"\n",
    "    pass"
   ]
  }
 ],
 "metadata": {
  "kernelspec": {
   "display_name": "conda_pytorch_p36",
   "language": "python",
   "name": "conda_pytorch_p36"
  },
  "language_info": {
   "codemirror_mode": {
    "name": "ipython",
    "version": 3
   },
   "file_extension": ".py",
   "mimetype": "text/x-python",
   "name": "python",
   "nbconvert_exporter": "python",
   "pygments_lexer": "ipython3",
   "version": "3.6.5"
  }
 },
 "nbformat": 4,
 "nbformat_minor": 4
}
